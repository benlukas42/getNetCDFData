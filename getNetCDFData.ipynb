{
 "cells": [
  {
   "cell_type": "markdown",
   "id": "95312f40",
   "metadata": {},
   "source": [
    "Using getNetCDFData.py\n",
    "====================\n",
    "This program is used for extracting data vectors from a NetCDF file, and optionally graphing them. Typically this program is used in the command-line. In the following notebook cells, sys.argv represents all arguments passed to getNetCDFData.py, which is then ran with getNetCDFData.main(). Equivalent command-line arguments are found in the section headers.\n"
   ]
  },
  {
   "cell_type": "code",
   "execution_count": 28,
   "id": "initial_id",
   "metadata": {},
   "outputs": [],
   "source": [
    "## Import for using getNetCDFData.py\n",
    "import getNetCDFData\n",
    "\n",
    "## Import for using sys.argv (enables command-line arguments)\n",
    "import sys\n",
    "\n",
    "## Idk if this works yet\n",
    "from IPython.display import display"
   ]
  },
  {
   "cell_type": "markdown",
   "id": "05eb3aba",
   "metadata": {},
   "source": [
    "### Running with no arguments\n",
    "------------------------------------\n",
    "**Command-line:**\n",
    "        \n",
    "        python getNetCDFData.py\n",
    "**Expected behavior:**\n",
    "        \n",
    "        prints the usage message"
   ]
  },
  {
   "cell_type": "code",
   "execution_count": 2,
   "id": "5034b381",
   "metadata": {},
   "outputs": [
    {
     "name": "stdout",
     "output_type": "stream",
     "text": [
      "-> Usage: python getNetCDFData.py [--help] <netCDF file> <variable> <flags...>\n",
      "-> Run \"python getNetCDFData.py <netCDF file>\" to see corresponding variables and their details.\n",
      "       Optional flags:\n",
      "         --help (prints useful information about getNetCDFData.py)\n",
      "         --mode <vector or graph>\n",
      "         --position <latitude_1> <longitude_1> <latitude_2> <longitude_2>... <latitude_n> <longitude_n>\n",
      "         --altitude <altitude>\n",
      "         --time <start> <end>\n"
     ]
    },
    {
     "data": {
      "text/plain": [
       "-1"
      ]
     },
     "execution_count": 2,
     "metadata": {},
     "output_type": "execute_result"
    }
   ],
   "source": [
    "## argv is the array of arguments in python. getNetCDFData.py is always the 0th argument\n",
    "\n",
    "sys.argv = [\"getNetCDFData.py\"]\n",
    "getNetCDFData.main()"
   ]
  },
  {
   "cell_type": "markdown",
   "id": "78f486da",
   "metadata": {},
   "source": [
    "### Running with --help flag\n",
    "-------------------------------\n",
    "**Command-line:**\n",
    "        \n",
    "        python getNetCDFData.py --help\n",
    "**Expected behavior:**\n",
    "        \n",
    "        prints the help message, then the usage message"
   ]
  },
  {
   "cell_type": "code",
   "execution_count": 6,
   "id": "949c7060",
   "metadata": {},
   "outputs": [
    {
     "name": "stdout",
     "output_type": "stream",
     "text": [
      "-> Takes a netCDF file and a variable as an argument, and extracts a vector of data.\n",
      "-> Optionally use graph mode to plot data vectors on a graph. This mode requires a variable that has Time as a dimension.\n",
      "-> Use optional flags to set mode, as well as variable dimensions.\n",
      "-> By default, mode=vector, latitude=0, longitude=0, altitude=0, time=1:2\n",
      "-> Usage: python getNetCDFData.py [--help] <netCDF file> <variable> <flags...>\n",
      "-> Run \"python getNetCDFData.py <netCDF file>\" to see corresponding variables and their details.\n",
      "       Optional flags:\n",
      "         --help (prints useful information about getNetCDFData.py)\n",
      "         --mode <vector or graph>\n",
      "         --position <latitude_1> <longitude_1> <latitude_2> <longitude_2>... <latitude_n> <longitude_n>\n",
      "         --altitude <altitude>\n",
      "         --time <start> <end>\n"
     ]
    },
    {
     "data": {
      "text/plain": [
       "-1"
      ]
     },
     "execution_count": 6,
     "metadata": {},
     "output_type": "execute_result"
    }
   ],
   "source": [
    "sys.argv = [\"getNetCDFData.py\", \"--help\"]\n",
    "getNetCDFData.main()"
   ]
  },
  {
   "cell_type": "markdown",
   "id": "4828f690",
   "metadata": {},
   "source": [
    "### Running with 1 argument: netCDF file\n",
    "-----------------------------------------------\n",
    "**Command-line:**\n",
    "        \n",
    "        python getNetCDFData.py <netCDF file>\n",
    "        e.g. python getNetCDFData.py diagfi1_microts.nc\n",
    "**Expected behavior:**\n",
    "    \n",
    "        prints information about all the variables in the given netCDF file"
   ]
  },
  {
   "cell_type": "code",
   "execution_count": 49,
   "id": "4e8e5db1",
   "metadata": {},
   "outputs": [],
   "source": [
    "## Captures stdout from this cell\n",
    "%%capture output\n",
    "\n",
    "sys.argv = [\"getNetCDFData.py\", \"diagfi1_microts.nc\"]\n",
    "getNetCDFData.main()"
   ]
  },
  {
   "cell_type": "code",
   "execution_count": 50,
   "id": "0b34fe4b",
   "metadata": {},
   "outputs": [
    {
     "name": "stdout",
     "output_type": "stream",
     "text": [
      "...nsions:\t('Time', 'altitude', 'latitude', 'longitude')\n",
      "-> Ls\n",
      "\tAttributes:\t{'title': 'Solar longitude', 'units': 'deg'}\n",
      "\tDimensions:\t('Time',)\n",
      "-> tauTES\n",
      "\tAttributes:\t{'title': 'tau abs 825 cm-1', 'units': ''}\n",
      "\tDimensions:\t('Time', 'latitude', 'longitude')\n",
      "-> mtot\n",
      "\tAttributes:\t{'title': 'total mass of water vapor', 'units': 'kg/m2'}\n",
      "\tDimensions:\t('Time', 'latitude', 'longitude')\n",
      "-> icetot\n",
      "\tAttributes:\t{'title': 'total mass of water ice', 'units': 'kg/m2'}\n",
      "\tDimensions:\t('Time', 'latitude', 'longitude')\n",
      "-> h2o_ice\n",
      "\tAttributes:\t{'title': 'h2o_ice', 'units': 'kg/kg'}\n",
      "\tDimensions:\t('Time', 'altitude', 'latitude', 'longitude')\n",
      "-> h2o_vap\n",
      "\tAttributes:\t{'title': 'h2o_vap', 'units': 'kg/kg'}\n",
      "\tDimensions:\t('Time', 'altitude', 'latitude', 'longitude')\n",
      "-> rice\n",
      "\tAttributes:\t{'title': 'Water ice particle size', 'units': 'm'}\n",
      "\tDimensions:\t('Time', 'altitude', 'latitude', 'longitude')\n",
      "-> h2o_ice_s\n",
      "\tAttributes:\t{'title': 'surface h2o_ice', 'units': 'kg.m-2'}\n",
      "\tDimensions:\t('Time', 'latitude', 'longitude')\n",
      "\n"
     ]
    }
   ],
   "source": [
    "## Prints just the last 1000 characters from the last cell's stdout\n",
    "print(\"...\" + output.stdout[-1000:])"
   ]
  },
  {
   "cell_type": "markdown",
   "id": "75824ca0",
   "metadata": {},
   "source": [
    "### Running with 2 arguments: netCDF file & variable\n",
    "-----------------------------------------------\n",
    "**Command-line:**\n",
    "        \n",
    "        python getNetCDFData.py <netCDF file> <variable>\n",
    "        e.g. python getNetCDFData.py diagfi1_microts.nc tsurf\n",
    "**Expected behavior:**\n",
    "    \n",
    "        Uses \"vector mode\" - prints a vector of data corresponding to this variable.\n",
    "        default values are used for latitude(0), longitude(0), altitude(0), and time(1:2)."
   ]
  },
  {
   "cell_type": "code",
   "execution_count": 52,
   "id": "58dbe970",
   "metadata": {},
   "outputs": [
    {
     "name": "stdout",
     "output_type": "stream",
     "text": [
      "-----------Vector Mode-------------\n",
      "Surface temperature (K):\n",
      "    [196.9339  189.7807  218.76273 282.8176  261.94064 209.99358 197.11069]\n",
      "Coordinates:\n",
      "  * Time       (Time) float32 1.0 1.167 1.333 1.5 1.667 1.833 2.0\n",
      "    latitude   float64 0.0\n",
      "    longitude  float64 0.0\n"
     ]
    },
    {
     "data": {
      "text/plain": [
       "0"
      ]
     },
     "execution_count": 52,
     "metadata": {},
     "output_type": "execute_result"
    }
   ],
   "source": [
    "sys.argv = [\"getNetCDFData.py\", \"diagfi1_microts.nc\", \"tsurf\"]\n",
    "getNetCDFData.main()"
   ]
  },
  {
   "cell_type": "markdown",
   "id": "82d515f7",
   "metadata": {},
   "source": [
    "### Running in graph mode\n",
    "-----------------------------------------------\n",
    "**Command-line:**\n",
    "        \n",
    "        python getNetCDFData.py <netCDF file> <variable> --mode graph\n",
    "        e.g. python getNetCDFData.py diagfi1_microts.nc tsurf --mode graph\n",
    "**Expected behavior:**\n",
    "    \n",
    "        Uses \"graph mode\" - finds a vector of data corresponding to this variable and graphs it on a matplotlib plot.\n",
    "        default values are used for latitude(0), longitude(0), altitude(0), and time(1:2)."
   ]
  },
  {
   "cell_type": "code",
   "execution_count": 53,
   "id": "2ff3e982",
   "metadata": {},
   "outputs": [
    {
     "name": "stdout",
     "output_type": "stream",
     "text": [
      "-----------Graph Mode-------------\n"
     ]
    },
    {
     "data": {
      "image/png": "[encoded data removed]",
      "text/plain": [
       "<Figure size 640x480 with 1 Axes>"
      ]
     },
     "metadata": {},
     "output_type": "display_data"
    },
    {
     "data": {
      "text/plain": [
       "0"
      ]
     },
     "execution_count": 53,
     "metadata": {},
     "output_type": "execute_result"
    }
   ],
   "source": [
    "sys.argv = [\"getNetCDFData.py\", \"diagfi1_microts.nc\", \"tsurf\", \"--mode\", \"graph\"]\n",
    "getNetCDFData.main()"
   ]
  },
  {
   "cell_type": "markdown",
   "id": "60dfdc56",
   "metadata": {},
   "source": [
    "### Running with optional flags\n",
    "-----------------------------------------------\n",
    "**Command-line:**\n",
    "        \n",
    "        python getNetCDFData.py <netCDF file> <variable> <flags...>\n",
    "        e.g. python getNetCDFData.py diagfi1_microts.nc tsurf --position 20 0 --altitude 5\n",
    "**Expected behavior:**\n",
    "    \n",
    "        Gets arguments from optional flags and assigns them to mode, latitude, longitude, altitude, or time respectively.\n",
    "        If the assignment does not exactly match any data point, it rounds to the nearest one (setting latitude to 20 actually results in latitude = 18.75).\n",
    "        In this example, latitude = 20, longitude = 0, altitude = 5, and all other values are default."
   ]
  },
  {
   "cell_type": "code",
   "execution_count": 57,
   "id": "f75fedae",
   "metadata": {},
   "outputs": [
    {
     "name": "stdout",
     "output_type": "stream",
     "text": [
      "-----------Vector Mode-------------\n",
      "Surface temperature (K):\n",
      "    [176.12152 169.18428 216.29306 282.52646 253.8667  190.01268 176.18947]\n",
      "Coordinates:\n",
      "  * Time       (Time) float32 1.0 1.167 1.333 1.5 1.667 1.833 2.0\n",
      "    latitude   float64 18.75\n",
      "    longitude  float64 0.0\n"
     ]
    },
    {
     "data": {
      "text/plain": [
       "0"
      ]
     },
     "execution_count": 57,
     "metadata": {},
     "output_type": "execute_result"
    }
   ],
   "source": [
    "sys.argv = [\"getNetCDFData.py\", \"diagfi1_microts.nc\", \"tsurf\", \"--position\", \"20\", \"0\", \"--altitude\", \"5\"]\n",
    "getNetCDFData.main()"
   ]
  },
  {
   "cell_type": "code",
   "execution_count": null,
   "id": "440b44ee",
   "metadata": {},
   "outputs": [],
   "source": []
  }
 ],
 "metadata": {
  "celltoolbar": "Raw Cell Format",
  "kernelspec": {
   "display_name": "Python 3 (ipykernel)",
   "language": "python",
   "name": "python3"
  },
  "language_info": {
   "codemirror_mode": {
    "name": "ipython",
    "version": 3
   },
   "file_extension": ".py",
   "mimetype": "text/x-python",
   "name": "python",
   "nbconvert_exporter": "python",
   "pygments_lexer": "ipython3",
   "version": "3.11.5"
  }
 },
 "nbformat": 4,
 "nbformat_minor": 5
}
