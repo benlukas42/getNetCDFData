{
 "cells": [
  {
   "cell_type": "markdown",
   "id": "95312f40",
   "metadata": {},
   "source": [
    "Using getNetCDFData.py\n",
    "====================\n",
    "This program is used for extracting data vectors from a NetCDF file, and optionally graphing them. Typically this program is used in the command-line. In the following notebook cells, sys.argv represents all arguments passed to getNetCDFData.py, which is then ran with getNetCDFData.main(). Equivalent command-line arguments are found in the section headers.\n"
   ]
  },
  {
   "cell_type": "code",
   "execution_count": 1,
   "id": "initial_id",
   "metadata": {},
   "outputs": [],
   "source": [
    "## Import for widgets\n",
    "import ipywidgets as widgets\n",
    "\n",
    "## Import for using getNetCDFData.py\n",
    "import getNetCDFData\n",
    "\n",
    "## Import for using sys.argv (enables command-line arguments)\n",
    "import sys\n",
    "\n",
    "## Idk if this works yet\n",
    "from IPython.display import display"
   ]
  },
  {
   "cell_type": "markdown",
   "id": "05eb3aba",
   "metadata": {},
   "source": [
    "### Running with no arguments\n",
    "------------------------------------\n",
    "**Command-line:**\n",
    "        \n",
    "        python getNetCDFData.py\n",
    "**Expected behavior:**\n",
    "        \n",
    "        prints the usage message"
   ]
  },
  {
   "cell_type": "code",
   "execution_count": 2,
   "id": "5034b381",
   "metadata": {},
   "outputs": [
    {
     "name": "stdout",
     "output_type": "stream",
     "text": [
      "-> Usage: python getNetCDFData.py [--help] <netCDF file> <variable> <flags...>\n",
      "-> Run \"python getNetCDFData.py <netCDF file>\" to see corresponding variables and their details.\n",
      "       Optional flags:\n",
      "         --help (prints useful information about getNetCDFData.py)\n",
      "         --mode <vector or graph>\n",
      "         --position <latitude_1> <longitude_1> <latitude_2> <longitude_2>... <latitude_n> <longitude_n>\n",
      "         --altitude <altitude>\n",
      "         --time <start> <end>\n"
     ]
    },
    {
     "data": {
      "text/plain": [
       "-1"
      ]
     },
     "execution_count": 2,
     "metadata": {},
     "output_type": "execute_result"
    }
   ],
   "source": [
    "## argv is the array of arguments in python. getNetCDFData.py is always the 0th argument\n",
    "\n",
    "sys.argv = [\"getNetCDFData.py\"]\n",
    "getNetCDFData.main()"
   ]
  },
  {
   "cell_type": "markdown",
   "id": "78f486da",
   "metadata": {},
   "source": [
    "### Running with --help flag\n",
    "-------------------------------\n",
    "**Command-line:**\n",
    "        \n",
    "        python getNetCDFData.py --help\n",
    "**Expected behavior:**\n",
    "        \n",
    "        prints the help message, then the usage message"
   ]
  },
  {
   "cell_type": "code",
   "execution_count": 3,
   "id": "949c7060",
   "metadata": {},
   "outputs": [
    {
     "name": "stdout",
     "output_type": "stream",
     "text": [
      "-> Takes a netCDF file and a variable as an argument, and extracts a vector of data.\n",
      "-> Optionally use graph mode to plot data vectors on a graph. This mode requires a variable that has Time as a dimension.\n",
      "-> Use optional flags to set mode, as well as variable dimensions.\n",
      "-> By default, mode=vector, latitude=0, longitude=0, altitude=0, time=1:2\n",
      "-> Usage: python getNetCDFData.py [--help] <netCDF file> <variable> <flags...>\n",
      "-> Run \"python getNetCDFData.py <netCDF file>\" to see corresponding variables and their details.\n",
      "       Optional flags:\n",
      "         --help (prints useful information about getNetCDFData.py)\n",
      "         --mode <vector or graph>\n",
      "         --position <latitude_1> <longitude_1> <latitude_2> <longitude_2>... <latitude_n> <longitude_n>\n",
      "         --altitude <altitude>\n",
      "         --time <start> <end>\n"
     ]
    },
    {
     "data": {
      "text/plain": [
       "-1"
      ]
     },
     "execution_count": 3,
     "metadata": {},
     "output_type": "execute_result"
    }
   ],
   "source": [
    "sys.argv = [\"getNetCDFData.py\", \"--help\"]\n",
    "getNetCDFData.main()"
   ]
  },
  {
   "cell_type": "markdown",
   "id": "beb85b99",
   "metadata": {},
   "source": [
    "Vector Mode\n",
    "====================\n",
    "In vector mode, getNetCDFData returns a vector of data from the specified netCDF file.\n",
    "\n",
    "* Using optional flags, you can also specify the values of different variables.\n"
   ]
  },
  {
   "cell_type": "markdown",
   "id": "4828f690",
   "metadata": {},
   "source": [
    "### Running with 1 argument: netCDF file\n",
    "-----------------------------------------------\n",
    "**Command-line:**\n",
    "        \n",
    "        python getNetCDFData.py <netCDF file>\n",
    "        e.g. python getNetCDFData.py diagfi1_microts.nc\n",
    "**Expected behavior:**\n",
    "    \n",
    "        prints information about all the variables in the given netCDF file"
   ]
  },
  {
   "cell_type": "code",
   "execution_count": 4,
   "id": "4e8e5db1",
   "metadata": {
    "scrolled": true
   },
   "outputs": [
    {
     "name": "stdout",
     "output_type": "stream",
     "text": [
      "-> Time\n",
      "\tAttributes:\t{'long_name': 'Time', 'units': 'days since 0000-00-0 00:00:00'}\n",
      "\tDimensions:\t('Time',)\n",
      "-> controle\n",
      "\tAttributes:\t{'title': 'Control parameters'}\n",
      "\tDimensions:\t('index',)\n",
      "-> latitude\n",
      "\tAttributes:\t{'units': 'degrees_north', 'long_name': 'North latitude'}\n",
      "\tDimensions:\t('latitude',)\n",
      "-> longitude\n",
      "\tAttributes:\t{'long_name': 'East longitude', 'units': 'degrees_east'}\n",
      "\tDimensions:\t('longitude',)\n",
      "-> altitude\n",
      "\tAttributes:\t{'long_name': 'pseudo-alt', 'units': 'km', 'positive': 'up'}\n",
      "\tDimensions:\t('altitude',)\n",
      "-> aps\n",
      "\tAttributes:\t{'title': 'hybrid pressure at midlayers', 'units': 'Pa'}\n",
      "\tDimensions:\t('altitude',)\n",
      "-> bps\n",
      "\tAttributes:\t{'title': 'hybrid sigma at midlayers', 'units': ''}\n",
      "\tDimensions:\t('altitude',)\n",
      "-> ap\n",
      "\tAttributes:\t{'title': 'hybrid pressure at interlayers', 'units': 'Pa'}\n",
      "\tDimensions:\t('interlayer',)\n",
      "-> bp\n",
      "\tAttributes:\t{'title': 'hybrid sigma at interlayers', 'units': ''}\n",
      "\tDimensions:\t('interlayer',)\n",
      "-> soildepth\n",
      "\tAttributes:\t{'long_name': 'Soil mid-layer depth', 'units': 'm', 'positive': 'down'}\n",
      "\tDimensions:\t('subsurface_layers',)\n",
      "-> aire\n",
      "\tAttributes:\t{'title': 'Mesh area'}\n",
      "\tDimensions:\t('latitude', 'longitude')\n",
      "-> phisinit\n",
      "\tAttributes:\t{'title': 'Geopotential at the surface'}\n",
      "\tDimensions:\t('latitude', 'longitude')\n",
      "-> count_micro\n",
      "\tAttributes:\t{'title': 'count_micro after microphysics', 'units': 'integer'}\n",
      "\tDimensions:\t('Time', 'altitude', 'latitude', 'longitude')\n",
      "-> tsurf\n",
      "\tAttributes:\t{'title': 'Surface temperature', 'units': 'K'}\n",
      "\tDimensions:\t('Time', 'latitude', 'longitude')\n",
      "-> ps\n",
      "\tAttributes:\t{'title': 'surface pressure', 'units': 'Pa'}\n",
      "\tDimensions:\t('Time', 'latitude', 'longitude')\n",
      "-> co2ice\n",
      "\tAttributes:\t{'title': 'co2 ice thickness', 'units': 'kg.m-2'}\n",
      "\tDimensions:\t('Time', 'latitude', 'longitude')\n",
      "-> watercap\n",
      "\tAttributes:\t{'title': 'Perennial water ice thickness', 'units': 'kg.m-2'}\n",
      "\tDimensions:\t('Time', 'latitude', 'longitude')\n",
      "-> fluxsurf_lw\n",
      "\tAttributes:\t{'title': 'fluxsurf_lw', 'units': 'W.m-2'}\n",
      "\tDimensions:\t('Time', 'latitude', 'longitude')\n",
      "-> fluxsurf_dn_sw\n",
      "\tAttributes:\t{'title': 'fluxsurf_dn_sw', 'units': 'W.m-2'}\n",
      "\tDimensions:\t('Time', 'latitude', 'longitude')\n",
      "-> temp\n",
      "\tAttributes:\t{'title': 'temperature', 'units': 'K'}\n",
      "\tDimensions:\t('Time', 'altitude', 'latitude', 'longitude')\n",
      "-> Ls\n",
      "\tAttributes:\t{'title': 'Solar longitude', 'units': 'deg'}\n",
      "\tDimensions:\t('Time',)\n",
      "-> tauTES\n",
      "\tAttributes:\t{'title': 'tau abs 825 cm-1', 'units': ''}\n",
      "\tDimensions:\t('Time', 'latitude', 'longitude')\n",
      "-> mtot\n",
      "\tAttributes:\t{'title': 'total mass of water vapor', 'units': 'kg/m2'}\n",
      "\tDimensions:\t('Time', 'latitude', 'longitude')\n",
      "-> icetot\n",
      "\tAttributes:\t{'title': 'total mass of water ice', 'units': 'kg/m2'}\n",
      "\tDimensions:\t('Time', 'latitude', 'longitude')\n",
      "-> h2o_ice\n",
      "\tAttributes:\t{'title': 'h2o_ice', 'units': 'kg/kg'}\n",
      "\tDimensions:\t('Time', 'altitude', 'latitude', 'longitude')\n",
      "-> h2o_vap\n",
      "\tAttributes:\t{'title': 'h2o_vap', 'units': 'kg/kg'}\n",
      "\tDimensions:\t('Time', 'altitude', 'latitude', 'longitude')\n",
      "-> rice\n",
      "\tAttributes:\t{'title': 'Water ice particle size', 'units': 'm'}\n",
      "\tDimensions:\t('Time', 'altitude', 'latitude', 'longitude')\n",
      "-> h2o_ice_s\n",
      "\tAttributes:\t{'title': 'surface h2o_ice', 'units': 'kg.m-2'}\n",
      "\tDimensions:\t('Time', 'latitude', 'longitude')\n"
     ]
    },
    {
     "data": {
      "text/plain": [
       "0"
      ]
     },
     "execution_count": 4,
     "metadata": {},
     "output_type": "execute_result"
    }
   ],
   "source": [
    "sys.argv = [\"getNetCDFData.py\", \"diagfi1_microts.nc\"]\n",
    "getNetCDFData.main()"
   ]
  },
  {
   "cell_type": "markdown",
   "id": "75824ca0",
   "metadata": {},
   "source": [
    "### Running with 2 arguments: netCDF file & variable\n",
    "-----------------------------------------------\n",
    "**Command-line:**\n",
    "        \n",
    "        python getNetCDFData.py <netCDF file> <variable>\n",
    "        e.g. python getNetCDFData.py diagfi1_microts.nc tsurf\n",
    "**Expected behavior:**\n",
    "    \n",
    "        Uses \"vector mode\" - prints a vector of data corresponding to this variable.\n",
    "        default values are used for latitude(0), longitude(0), altitude(0), and time(1:2)."
   ]
  },
  {
   "cell_type": "code",
   "execution_count": 5,
   "id": "58dbe970",
   "metadata": {},
   "outputs": [
    {
     "name": "stdout",
     "output_type": "stream",
     "text": [
      "-----------Vector Mode-------------\n",
      "Surface temperature (K):\n",
      "    [196.9339  189.7807  218.76273 282.8176  261.94064 209.99358 197.11069]\n",
      "Coordinates:\n",
      "  * Time       (Time) float32 1.0 1.167 1.333 1.5 1.667 1.833 2.0\n",
      "    latitude   float64 0.0\n",
      "    longitude  float64 0.0\n"
     ]
    },
    {
     "data": {
      "text/plain": [
       "0"
      ]
     },
     "execution_count": 5,
     "metadata": {},
     "output_type": "execute_result"
    }
   ],
   "source": [
    "sys.argv = [\"getNetCDFData.py\", \"diagfi1_microts.nc\", \"tsurf\"]\n",
    "getNetCDFData.main()"
   ]
  },
  {
   "cell_type": "markdown",
   "id": "60dfdc56",
   "metadata": {},
   "source": [
    "### Running with an optional flag\n",
    "-----------------------------------------------\n",
    "**Command-line:**\n",
    "        \n",
    "        python getNetCDFData.py <netCDF file> <variable> <flags...>\n",
    "        e.g. python getNetCDFData.py diagfi1_microts.nc tsurf --position 20 0\n",
    "**Expected behavior:**\n",
    "    \n",
    "        Gets arguments from optional flags and assigns them to mode, latitude, longitude, altitude, or time respectively.\n",
    "        If the assignment does not exactly match any data point, it rounds to the nearest one (setting latitude to 20 actually results in latitude = 18.75).\n",
    "        In this example, latitude = 20 and longitude = 0, and all other values are default."
   ]
  },
  {
   "cell_type": "code",
   "execution_count": 6,
   "id": "7741b928-0ea0-4577-90a2-c2d4d50694b4",
   "metadata": {},
   "outputs": [
    {
     "data": {
      "application/vnd.jupyter.widget-view+json": {
       "model_id": "a19ac746b589453e9db430fbb75b35c4",
       "version_major": 2,
       "version_minor": 0
      },
      "text/plain": [
       "IntSlider(value=0, description='N Latitude', layout=Layout(margin='10px', width='33%'), max=90, min=-90)"
      ]
     },
     "metadata": {},
     "output_type": "display_data"
    },
    {
     "data": {
      "application/vnd.jupyter.widget-view+json": {
       "model_id": "04d0ced60d9848ea91b53b9b9d865547",
       "version_major": 2,
       "version_minor": 0
      },
      "text/plain": [
       "IntSlider(value=0, description='E Longitude', layout=Layout(margin='10px', width='33%'), max=180, min=-180)"
      ]
     },
     "metadata": {},
     "output_type": "display_data"
    }
   ],
   "source": [
    "## Use these sliders to adjust the latitude and longitude in the following example.\n",
    "lax_slider = widgets.Layout(margin = '10px', width='33%')\n",
    "lat = widgets.IntSlider(description = \"N Latitude\", min = -90, max = 90, layout = lax_slider)\n",
    "long = widgets.IntSlider(description = \"E Longitude\", min = -180, max = 180, layout = lax_slider)\n",
    "\n",
    "display(lat)\n",
    "display(long)"
   ]
  },
  {
   "cell_type": "code",
   "execution_count": 7,
   "id": "f75fedae",
   "metadata": {},
   "outputs": [
    {
     "name": "stdout",
     "output_type": "stream",
     "text": [
      "-----------Vector Mode-------------\n",
      "Surface temperature (K):\n",
      "    [196.9339  189.7807  218.76273 282.8176  261.94064 209.99358 197.11069]\n",
      "Coordinates:\n",
      "  * Time       (Time) float32 1.0 1.167 1.333 1.5 1.667 1.833 2.0\n",
      "    latitude   float64 0.0\n",
      "    longitude  float64 0.0\n"
     ]
    },
    {
     "data": {
      "text/plain": [
       "0"
      ]
     },
     "execution_count": 7,
     "metadata": {},
     "output_type": "execute_result"
    }
   ],
   "source": [
    "sys.argv = [\"getNetCDFData.py\", \"diagfi1_microts.nc\", \"tsurf\", \"--position\", lat.value, long.value]\n",
    "getNetCDFData.main()"
   ]
  },
  {
   "cell_type": "markdown",
   "id": "06da3888-8f94-422b-84c5-fa08a522b3a1",
   "metadata": {},
   "source": [
    "### Multiple locations\n",
    "-----------------------------------------------\n",
    "**Command-line:**\n",
    "        \n",
    "        python getNetCDFData.py <netCDF file> <variable> --position <x> <y> <x> <x>\n",
    "        e.g. python getNetCDFData.py diagfi1_microts.nc tsurf --position -20 0 20 0\n",
    "**Expected behavior:**\n",
    "    \n",
    "        Multiple locations can be specified if more than one pair of coordinates is passed to the --position flag. Then multiple vectors will be selected."
   ]
  },
  {
   "cell_type": "code",
   "execution_count": 8,
   "id": "73ec7a84",
   "metadata": {},
   "outputs": [
    {
     "data": {
      "application/vnd.jupyter.widget-view+json": {
       "model_id": "0f9059597bf7422989ac71697ec19899",
       "version_major": 2,
       "version_minor": 0
      },
      "text/plain": [
       "VBox(children=(HBox(children=(IntSlider(value=0, description='N Lat. 1', layout=Layout(margin='10px', width='3…"
      ]
     },
     "execution_count": 8,
     "metadata": {},
     "output_type": "execute_result"
    }
   ],
   "source": [
    "## Use these sliders to adjust the latitude and longitude in the following example.\n",
    "lat_1 = widgets.IntSlider(description = \"N Lat. 1\", min = -90, max = 90, layout = lax_slider)\n",
    "long_1 = widgets.IntSlider(description = \"E Long. 1\", min = -180, max = 180, layout = lax_slider)\n",
    "lat_2 = widgets.IntSlider(description = \"N Lat. 2\", min = -90, max = 90, layout = lax_slider)\n",
    "long_2 = widgets.IntSlider(description = \"E Long. 2\", min = -180, max = 180, layout = lax_slider)\n",
    "\n",
    "h_1 = widgets.HBox([lat_1, lat_2])\n",
    "h_2 = widgets.HBox([long_1, long_2])\n",
    "widgets.VBox([h_1, h_2])"
   ]
  },
  {
   "cell_type": "code",
   "execution_count": 9,
   "id": "ca5eee79-c8ac-440c-9570-76ebc1fe2c85",
   "metadata": {},
   "outputs": [
    {
     "name": "stdout",
     "output_type": "stream",
     "text": [
      "-----------Vector Mode-------------\n",
      "-> Vector #0\n",
      "Surface temperature (K):\n",
      "    [196.9339  189.7807  218.76273 282.8176  261.94064 209.99358 197.11069]\n",
      "Coordinates:\n",
      "  * Time       (Time) float32 1.0 1.167 1.333 1.5 1.667 1.833 2.0\n",
      "    latitude   float64 0.0\n",
      "    longitude  float64 0.0\n",
      "\n",
      "-> Vector #2\n",
      "Surface temperature (K):\n",
      "    [196.9339  189.7807  218.76273 282.8176  261.94064 209.99358 197.11069]\n",
      "Coordinates:\n",
      "  * Time       (Time) float32 1.0 1.167 1.333 1.5 1.667 1.833 2.0\n",
      "    latitude   float64 0.0\n",
      "    longitude  float64 0.0\n"
     ]
    },
    {
     "data": {
      "text/plain": [
       "0"
      ]
     },
     "execution_count": 9,
     "metadata": {},
     "output_type": "execute_result"
    }
   ],
   "source": [
    "sys.argv = [\"getNetCDFData.py\", \"diagfi1_microts.nc\", \"tsurf\", \"--position\", lat_1.value, long_1.value, lat_2.value, long_2.value]\n",
    "getNetCDFData.main()"
   ]
  },
  {
   "cell_type": "markdown",
   "id": "e3aa6bb8-03f6-4227-a95a-a58e5ce786e7",
   "metadata": {},
   "source": [
    "### All the flags\n",
    "-----------------------------------------------\n",
    "**Command-line:**\n",
    "        \n",
    "        python getNetCDFData.py <netCDF file> <variable> --position <x> <y> --time <start> <end> --altitude <z>\n",
    "        e.g. python getNetCDFData.py diagfi1_microts.nc h2o_ice --position 70 -120 --time 5 8 --altitude <10>\n",
    "**Expected behavior:**\n",
    "    \n",
    "        Adjusting time can result in a much longer vector."
   ]
  },
  {
   "cell_type": "code",
   "execution_count": 44,
   "id": "3ec39b40-a238-4253-89da-d664172c537c",
   "metadata": {},
   "outputs": [
    {
     "data": {
      "application/vnd.jupyter.widget-view+json": {
       "model_id": "6765c9acbc7748dda7d2373cdef4cbeb",
       "version_major": 2,
       "version_minor": 0
      },
      "text/plain": [
       "VBox(children=(IntSlider(value=0, description='N Latitude', layout=Layout(margin='10px', width='33%'), max=90,…"
      ]
     },
     "execution_count": 44,
     "metadata": {},
     "output_type": "execute_result"
    }
   ],
   "source": [
    "## Use these sliders to adjust the latitude and longitude in the following example.\n",
    "lat = widgets.IntSlider(description = \"N Latitude\", min = -90, max = 90, layout = lax_slider)\n",
    "long = widgets.IntSlider(description = \"E Longitude\", min = -180, max = 180, layout = lax_slider)\n",
    "time = widgets.IntRangeSlider(description = \"Time\", min = 1, max = 10, layout = lax_slider)\n",
    "alt = widgets.IntSlider(description = \"Altitude (km)\", min = 0, max = 100, layout = lax_slider)\n",
    "\n",
    "\n",
    "widgets.VBox([lat, long, time, alt])"
   ]
  },
  {
   "cell_type": "code",
   "execution_count": 24,
   "id": "2c5a6917-3f8f-42bc-97c0-73ab4f2b3a5b",
   "metadata": {
    "scrolled": true
   },
   "outputs": [
    {
     "name": "stdout",
     "output_type": "stream",
     "text": [
      "-----------Vector Mode-------------\n",
      "h2o_ice (kg/kg):\n",
      "    [5.1327991e-12 4.8755275e-12 7.1842974e-12 ... 3.6792665e-12 3.3708026e-12\n",
      " 4.7737270e-12]\n",
      "Coordinates:\n",
      "  * Time       (Time) float32 1.0 1.167 1.333 1.5 ... 668.5 668.7 668.8 669.0\n",
      "    latitude   float64 0.0\n",
      "    longitude  float64 0.0\n",
      "    altitude   float64 0.004481\n"
     ]
    },
    {
     "data": {
      "text/plain": [
       "0"
      ]
     },
     "execution_count": 24,
     "metadata": {},
     "output_type": "execute_result"
    }
   ],
   "source": [
    "sys.argv = [\"getNetCDFData.py\", \"diagfi1_microts.nc\", \"h2o_ice\", \"--position\", lat.value, long.value, \"--time\", time.value[0], time.value[1], \"--altitude\", alt.value]\n",
    "getNetCDFData.main()"
   ]
  },
  {
   "cell_type": "markdown",
   "id": "928658c4",
   "metadata": {},
   "source": [
    "### Running in graph mode\n",
    "-----------------------------------------------\n",
    "**Command-line:**\n",
    "        \n",
    "        python getNetCDFData.py <netCDF file> <variable> --mode graph\n",
    "        e.g. python getNetCDFData.py diagfi1_microts.nc tsurf --mode graph --position 0 0 40 0\n",
    "**Expected behavior:**\n",
    "    \n",
    "        Uses \"graph mode\" - finds a vector of data corresponding to this variable and graphs it on a matplotlib plot.\n",
    "        default values are used for altitude(0) and time(1:2)."
   ]
  },
  {
   "cell_type": "code",
   "execution_count": 41,
   "id": "4f4cddad-46d8-4f24-b6ef-b78b127f4646",
   "metadata": {},
   "outputs": [
    {
     "data": {
      "application/vnd.jupyter.widget-view+json": {
       "model_id": "40e03d3bcf5a49fd9aa253db098e1bc9",
       "version_major": 2,
       "version_minor": 0
      },
      "text/plain": [
       "VBox(children=(HBox(children=(IntSlider(value=0, description='N Lat. 1', layout=Layout(margin='10px', width='3…"
      ]
     },
     "execution_count": 41,
     "metadata": {},
     "output_type": "execute_result"
    }
   ],
   "source": [
    "## Use these sliders to adjust the latitude and longitude in the following example.\n",
    "lat_1 = widgets.IntSlider(description = \"N Lat. 1\", min = -90, max = 90, layout = lax_slider)\n",
    "long_1 = widgets.IntSlider(description = \"E Long. 1\", min = -180, max = 180, layout = lax_slider)\n",
    "lat_2 = widgets.IntSlider(description = \"N Lat. 2\", min = -90, max = 90, layout = lax_slider)\n",
    "long_2 = widgets.IntSlider(description = \"E Long. 2\", min = -180, max = 180, layout = lax_slider)\n",
    "\n",
    "h_1 = widgets.HBox([lat_1, lat_2])\n",
    "h_2 = widgets.HBox([long_1, long_2])\n",
    "widgets.VBox([h_1, h_2])"
   ]
  },
  {
   "cell_type": "code",
   "execution_count": 43,
   "id": "73380a45",
   "metadata": {},
   "outputs": [
    {
     "name": "stdout",
     "output_type": "stream",
     "text": [
      "-----------Graph Mode-------------\n"
     ]
    },
    {
     "data": {
      "image/png": "[encoded data removed]",
      "text/plain": [
       "<Figure size 640x480 with 1 Axes>"
      ]
     },
     "metadata": {},
     "output_type": "display_data"
    },
    {
     "data": {
      "text/plain": [
       "0"
      ]
     },
     "execution_count": 43,
     "metadata": {},
     "output_type": "execute_result"
    }
   ],
   "source": [
    "sys.argv = [\"getNetCDFData.py\", \"diagfi1_microts.nc\", \"tsurf\", \"--mode\", \"graph\", \"--position\", lat_1.value, long_1.value, lat_2.value, long_2.value]\n",
    "getNetCDFData.main()"
   ]
  },
  {
   "cell_type": "code",
   "execution_count": null,
   "id": "8715dea5-634f-427e-9efd-a621b7044496",
   "metadata": {},
   "outputs": [],
   "source": []
  }
 ],
 "metadata": {
  "celltoolbar": "Raw Cell Format",
  "kernelspec": {
   "display_name": "Python 3 (ipykernel)",
   "language": "python",
   "name": "python3"
  },
  "language_info": {
   "codemirror_mode": {
    "name": "ipython",
    "version": 3
   },
   "file_extension": ".py",
   "mimetype": "text/x-python",
   "name": "python",
   "nbconvert_exporter": "python",
   "pygments_lexer": "ipython3",
   "version": "3.11.5"
  }
 },
 "nbformat": 4,
 "nbformat_minor": 5
}
