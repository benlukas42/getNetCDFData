{
 "cells": [
  {
   "cell_type": "markdown",
   "id": "95312f40",
   "metadata": {},
   "source": [
    "Using getNetCDFData.py\n",
    "====================\n",
    "This program is used for extracting data vectors from a NetCDF file, and optionally graphing them. Typically this program is used in the command-line. In the following notebook cells, sys.argv represents all arguments passed to getNetCDFData.py, which is then ran with getNetCDFData.main(). Equivalent command-line arguments are found in the section headers.\n"
   ]
  },
  {
   "cell_type": "code",
   "execution_count": 1,
   "id": "initial_id",
   "metadata": {},
   "outputs": [],
   "source": [
    "## Import for widgets\n",
    "import ipywidgets as widgets\n",
    "\n",
    "## Import for using getNetCDFData.py\n",
    "import getNetCDFData\n",
    "\n",
    "## Import for using sys.argv (enables command-line arguments)\n",
    "import sys\n",
    "\n",
    "\n",
    "from IPython.display import display"
   ]
  },
  {
   "cell_type": "markdown",
   "id": "05eb3aba",
   "metadata": {},
   "source": [
    "### Running with no arguments\n",
    "------------------------------------\n",
    "**Command-line:**\n",
    "        \n",
    "        python getNetCDFData.py\n",
    "**Expected behavior:**\n",
    "        \n",
    "        prints the usage message"
   ]
  },
  {
   "cell_type": "code",
   "execution_count": 2,
   "id": "5034b381",
   "metadata": {},
   "outputs": [
    {
     "name": "stdout",
     "output_type": "stream",
     "text": [
      "-> Usage: python getNetCDFData.py [--help] <netCDF file> <variable> <flags...>\n",
      "-> Run \"python getNetCDFData.py <netCDF file>\" to see corresponding variables and their details.\n",
      "       Optional flags:\n",
      "         --help (prints useful information about getNetCDFData.py)\n",
      "         --mode <vector or graph>\n",
      "         --analyze (prints statistics about the data vectors)\n",
      "         --position <latitude_1> <longitude_1> <latitude_2> <longitude_2>... <latitude_n> <longitude_n>\n",
      "         --altitude <altitude>\n",
      "         --time <start> <end>\n"
     ]
    },
    {
     "data": {
      "text/plain": [
       "-1"
      ]
     },
     "execution_count": 2,
     "metadata": {},
     "output_type": "execute_result"
    }
   ],
   "source": [
    "## argv is the array of arguments in python. getNetCDFData.py is always the 0th argument\n",
    "sys.argv = [\"getNetCDFData.py\"]\n",
    "\n",
    "## Runs getNetCDFData.py\n",
    "getNetCDFData.main()"
   ]
  },
  {
   "cell_type": "markdown",
   "id": "78f486da",
   "metadata": {},
   "source": [
    "### Running with --help flag\n",
    "-------------------------------\n",
    "**Command-line:**\n",
    "        \n",
    "        python getNetCDFData.py --help\n",
    "**Expected behavior:**\n",
    "        \n",
    "        prints the help message, then the usage message"
   ]
  },
  {
   "cell_type": "code",
   "execution_count": 3,
   "id": "949c7060",
   "metadata": {},
   "outputs": [
    {
     "name": "stdout",
     "output_type": "stream",
     "text": [
      "-> Takes a netCDF file and a variable as an argument, and extracts a vector of data.\n",
      "-> Optionally use graph mode to plot data vectors on a graph. This mode requires a variable that has Time as a dimension.\n",
      "-> Use optional flags to set mode, as well as variable dimensions.\n",
      "-> By default, mode=vector, latitude=0, longitude=0, altitude=0, time=1:2\n",
      "-> Usage: python getNetCDFData.py [--help] <netCDF file> <variable> <flags...>\n",
      "-> Run \"python getNetCDFData.py <netCDF file>\" to see corresponding variables and their details.\n",
      "       Optional flags:\n",
      "         --help (prints useful information about getNetCDFData.py)\n",
      "         --mode <vector or graph>\n",
      "         --analyze (prints statistics about the data vectors)\n",
      "         --position <latitude_1> <longitude_1> <latitude_2> <longitude_2>... <latitude_n> <longitude_n>\n",
      "         --altitude <altitude>\n",
      "         --time <start> <end>\n"
     ]
    },
    {
     "data": {
      "text/plain": [
       "-1"
      ]
     },
     "execution_count": 3,
     "metadata": {},
     "output_type": "execute_result"
    }
   ],
   "source": [
    "sys.argv = [\"getNetCDFData.py\", \"--help\"]\n",
    "getNetCDFData.main()"
   ]
  },
  {
   "cell_type": "markdown",
   "id": "beb85b99",
   "metadata": {},
   "source": [
    "Vector Mode\n",
    "====================\n",
    "In vector mode, getNetCDFData returns a vector of data from the specified netCDF file.\n",
    "\n",
    "* Using optional flags, you can also specify the values of different variables.\n"
   ]
  },
  {
   "cell_type": "markdown",
   "id": "4828f690",
   "metadata": {},
   "source": [
    "### Running with 1 argument: netCDF file\n",
    "-----------------------------------------------\n",
    "**Command-line:**\n",
    "        \n",
    "        python getNetCDFData.py <netCDF file>\n",
    "        e.g. python getNetCDFData.py diagfi1_microts.nc\n",
    "**Expected behavior:**\n",
    "    \n",
    "        prints information about all the variables in the given netCDF file"
   ]
  },
  {
   "cell_type": "code",
   "execution_count": 4,
   "id": "4e8e5db1",
   "metadata": {
    "scrolled": true
   },
   "outputs": [
    {
     "name": "stdout",
     "output_type": "stream",
     "text": [
      "-> Time\n",
      "\tAttributes:\t{'long_name': 'Time', 'units': 'days since 0000-00-0 00:00:00'}\n",
      "\tDimensions:\t('Time',)\n",
      "-> controle\n",
      "\tAttributes:\t{'title': 'Control parameters'}\n",
      "\tDimensions:\t('index',)\n",
      "-> latitude\n",
      "\tAttributes:\t{'units': 'degrees_north', 'long_name': 'North latitude'}\n",
      "\tDimensions:\t('latitude',)\n",
      "-> longitude\n",
      "\tAttributes:\t{'long_name': 'East longitude', 'units': 'degrees_east'}\n",
      "\tDimensions:\t('longitude',)\n",
      "-> altitude\n",
      "\tAttributes:\t{'long_name': 'pseudo-alt', 'units': 'km', 'positive': 'up'}\n",
      "\tDimensions:\t('altitude',)\n",
      "-> aps\n",
      "\tAttributes:\t{'title': 'hybrid pressure at midlayers', 'units': 'Pa'}\n",
      "\tDimensions:\t('altitude',)\n",
      "-> bps\n",
      "\tAttributes:\t{'title': 'hybrid sigma at midlayers', 'units': ''}\n",
      "\tDimensions:\t('altitude',)\n",
      "-> ap\n",
      "\tAttributes:\t{'title': 'hybrid pressure at interlayers', 'units': 'Pa'}\n",
      "\tDimensions:\t('interlayer',)\n",
      "-> bp\n",
      "\tAttributes:\t{'title': 'hybrid sigma at interlayers', 'units': ''}\n",
      "\tDimensions:\t('interlayer',)\n",
      "-> soildepth\n",
      "\tAttributes:\t{'long_name': 'Soil mid-layer depth', 'units': 'm', 'positive': 'down'}\n",
      "\tDimensions:\t('subsurface_layers',)\n",
      "-> aire\n",
      "\tAttributes:\t{'title': 'Mesh area'}\n",
      "\tDimensions:\t('latitude', 'longitude')\n",
      "-> phisinit\n",
      "\tAttributes:\t{'title': 'Geopotential at the surface'}\n",
      "\tDimensions:\t('latitude', 'longitude')\n",
      "-> count_micro\n",
      "\tAttributes:\t{'title': 'count_micro after microphysics', 'units': 'integer'}\n",
      "\tDimensions:\t('Time', 'altitude', 'latitude', 'longitude')\n",
      "-> tsurf\n",
      "\tAttributes:\t{'title': 'Surface temperature', 'units': 'K'}\n",
      "\tDimensions:\t('Time', 'latitude', 'longitude')\n",
      "-> ps\n",
      "\tAttributes:\t{'title': 'surface pressure', 'units': 'Pa'}\n",
      "\tDimensions:\t('Time', 'latitude', 'longitude')\n",
      "-> co2ice\n",
      "\tAttributes:\t{'title': 'co2 ice thickness', 'units': 'kg.m-2'}\n",
      "\tDimensions:\t('Time', 'latitude', 'longitude')\n",
      "-> watercap\n",
      "\tAttributes:\t{'title': 'Perennial water ice thickness', 'units': 'kg.m-2'}\n",
      "\tDimensions:\t('Time', 'latitude', 'longitude')\n",
      "-> fluxsurf_lw\n",
      "\tAttributes:\t{'title': 'fluxsurf_lw', 'units': 'W.m-2'}\n",
      "\tDimensions:\t('Time', 'latitude', 'longitude')\n",
      "-> fluxsurf_dn_sw\n",
      "\tAttributes:\t{'title': 'fluxsurf_dn_sw', 'units': 'W.m-2'}\n",
      "\tDimensions:\t('Time', 'latitude', 'longitude')\n",
      "-> temp\n",
      "\tAttributes:\t{'title': 'temperature', 'units': 'K'}\n",
      "\tDimensions:\t('Time', 'altitude', 'latitude', 'longitude')\n",
      "-> Ls\n",
      "\tAttributes:\t{'title': 'Solar longitude', 'units': 'deg'}\n",
      "\tDimensions:\t('Time',)\n",
      "-> tauTES\n",
      "\tAttributes:\t{'title': 'tau abs 825 cm-1', 'units': ''}\n",
      "\tDimensions:\t('Time', 'latitude', 'longitude')\n",
      "-> mtot\n",
      "\tAttributes:\t{'title': 'total mass of water vapor', 'units': 'kg/m2'}\n",
      "\tDimensions:\t('Time', 'latitude', 'longitude')\n",
      "-> icetot\n",
      "\tAttributes:\t{'title': 'total mass of water ice', 'units': 'kg/m2'}\n",
      "\tDimensions:\t('Time', 'latitude', 'longitude')\n",
      "-> h2o_ice\n",
      "\tAttributes:\t{'title': 'h2o_ice', 'units': 'kg/kg'}\n",
      "\tDimensions:\t('Time', 'altitude', 'latitude', 'longitude')\n",
      "-> h2o_vap\n",
      "\tAttributes:\t{'title': 'h2o_vap', 'units': 'kg/kg'}\n",
      "\tDimensions:\t('Time', 'altitude', 'latitude', 'longitude')\n",
      "-> rice\n",
      "\tAttributes:\t{'title': 'Water ice particle size', 'units': 'm'}\n",
      "\tDimensions:\t('Time', 'altitude', 'latitude', 'longitude')\n",
      "-> h2o_ice_s\n",
      "\tAttributes:\t{'title': 'surface h2o_ice', 'units': 'kg.m-2'}\n",
      "\tDimensions:\t('Time', 'latitude', 'longitude')\n"
     ]
    },
    {
     "data": {
      "text/plain": [
       "0"
      ]
     },
     "execution_count": 4,
     "metadata": {},
     "output_type": "execute_result"
    }
   ],
   "source": [
    "sys.argv = [\"getNetCDFData.py\", \"diagfi1_microts.nc\"]\n",
    "getNetCDFData.main()"
   ]
  },
  {
   "cell_type": "markdown",
   "id": "75824ca0",
   "metadata": {},
   "source": [
    "### Running with 2 arguments: netCDF file & variable\n",
    "-----------------------------------------------\n",
    "**Command-line:**\n",
    "        \n",
    "        python getNetCDFData.py <netCDF file> <variable>\n",
    "        e.g. python getNetCDFData.py diagfi1_microts.nc tsurf\n",
    "**Expected behavior:**\n",
    "    \n",
    "        Uses \"vector mode\" - prints a vector of data corresponding to this variable.\n",
    "        default values are used for latitude(0), longitude(0), altitude(0), and time(1:2)."
   ]
  },
  {
   "cell_type": "code",
   "execution_count": 5,
   "id": "58dbe970",
   "metadata": {},
   "outputs": [
    {
     "name": "stdout",
     "output_type": "stream",
     "text": [
      "-----------Vector Mode-------------\n",
      "Surface temperature (K):\n",
      "    [196.9339  189.7807  218.76273 282.8176  261.94064 209.99358 197.11069]\n",
      "Coordinates:\n",
      "  * Time       (Time) float32 1.0 1.167 1.333 1.5 1.667 1.833 2.0\n",
      "    latitude   float64 0.0\n",
      "    longitude  float64 0.0\n"
     ]
    },
    {
     "data": {
      "text/plain": [
       "0"
      ]
     },
     "execution_count": 5,
     "metadata": {},
     "output_type": "execute_result"
    }
   ],
   "source": [
    "sys.argv = [\"getNetCDFData.py\", \"diagfi1_microts.nc\", \"tsurf\"]\n",
    "getNetCDFData.main()"
   ]
  },
  {
   "cell_type": "markdown",
   "id": "60dfdc56",
   "metadata": {},
   "source": [
    "### Running with an optional flag\n",
    "-----------------------------------------------\n",
    "**Command-line:**\n",
    "        \n",
    "        python getNetCDFData.py <netCDF file> <variable> <flags...>\n",
    "        e.g. python getNetCDFData.py diagfi1_microts.nc tsurf --position 20 0\n",
    "**Expected behavior:**\n",
    "    \n",
    "        Gets arguments from optional flags and assigns them to mode, latitude, longitude, altitude, or time respectively.\n",
    "        If the assignment does not exactly match any data point, it rounds to the nearest one (setting latitude to 20 actually results in latitude = 18.75).\n",
    "        In this example, latitude = 20 and longitude = 0, and all other values are default."
   ]
  },
  {
   "cell_type": "code",
   "execution_count": 6,
   "id": "7741b928-0ea0-4577-90a2-c2d4d50694b4",
   "metadata": {},
   "outputs": [
    {
     "data": {
      "application/vnd.jupyter.widget-view+json": {
       "model_id": "5566bdfd42104ccaa92dc15ae707722d",
       "version_major": 2,
       "version_minor": 0
      },
      "text/plain": [
       "IntSlider(value=0, description='N Latitude', layout=Layout(margin='10px', width='33%'), max=90, min=-90)"
      ]
     },
     "metadata": {},
     "output_type": "display_data"
    },
    {
     "data": {
      "application/vnd.jupyter.widget-view+json": {
       "model_id": "deb97171f136436d9e8a2c756b3e192d",
       "version_major": 2,
       "version_minor": 0
      },
      "text/plain": [
       "IntSlider(value=0, description='E Longitude', layout=Layout(margin='10px', width='33%'), max=180, min=-180)"
      ]
     },
     "metadata": {},
     "output_type": "display_data"
    }
   ],
   "source": [
    "## Run this cell first! You can use the sliders to adjust the parameters in the next cell.\n",
    "\n",
    "lax_slider = widgets.Layout(margin = '10px', width='33%')\n",
    "lat = widgets.IntSlider(description = \"N Latitude\", min = -90, max = 90, layout = lax_slider)\n",
    "long = widgets.IntSlider(description = \"E Longitude\", min = -180, max = 180, layout = lax_slider)\n",
    "\n",
    "display(lat)\n",
    "display(long)"
   ]
  },
  {
   "cell_type": "code",
   "execution_count": 7,
   "id": "f75fedae",
   "metadata": {},
   "outputs": [
    {
     "name": "stdout",
     "output_type": "stream",
     "text": [
      "-----------Vector Mode-------------\n",
      "Surface temperature (K):\n",
      "    [196.9339  189.7807  218.76273 282.8176  261.94064 209.99358 197.11069]\n",
      "Coordinates:\n",
      "  * Time       (Time) float32 1.0 1.167 1.333 1.5 1.667 1.833 2.0\n",
      "    latitude   float64 0.0\n",
      "    longitude  float64 0.0\n"
     ]
    },
    {
     "data": {
      "text/plain": [
       "0"
      ]
     },
     "execution_count": 7,
     "metadata": {},
     "output_type": "execute_result"
    }
   ],
   "source": [
    "## Use the sliders in the last cell to change the parameters in this cell.\n",
    "\n",
    "sys.argv = [\"getNetCDFData.py\", \"diagfi1_microts.nc\", \"tsurf\", \"--position\", lat.value, long.value]\n",
    "getNetCDFData.main()"
   ]
  },
  {
   "cell_type": "markdown",
   "id": "06da3888-8f94-422b-84c5-fa08a522b3a1",
   "metadata": {},
   "source": [
    "### Multiple locations\n",
    "-----------------------------------------------\n",
    "**Command-line:**\n",
    "        \n",
    "        python getNetCDFData.py <netCDF file> <variable> --position <x> <y> <x> <x>\n",
    "        e.g. python getNetCDFData.py diagfi1_microts.nc tsurf --position -20 0 20 0\n",
    "**Expected behavior:**\n",
    "    \n",
    "        Multiple locations can be specified if more than one pair of coordinates is passed to the --position flag. Then multiple vectors will be selected."
   ]
  },
  {
   "cell_type": "code",
   "execution_count": 8,
   "id": "73ec7a84",
   "metadata": {},
   "outputs": [
    {
     "data": {
      "application/vnd.jupyter.widget-view+json": {
       "model_id": "c563d7f8db9f486db410518c0873da51",
       "version_major": 2,
       "version_minor": 0
      },
      "text/plain": [
       "VBox(children=(HBox(children=(IntSlider(value=0, description='N Lat. 1', layout=Layout(margin='10px', width='3…"
      ]
     },
     "execution_count": 8,
     "metadata": {},
     "output_type": "execute_result"
    }
   ],
   "source": [
    "## Use these sliders to adjust the latitude and longitude in the following example.\n",
    "ml_lat_1 = widgets.IntSlider(description = \"N Lat. 1\", min = -90, max = 90, layout = lax_slider)\n",
    "ml_long_1 = widgets.IntSlider(description = \"E Long. 1\", min = -180, max = 180, layout = lax_slider)\n",
    "ml_lat_2 = widgets.IntSlider(description = \"N Lat. 2\", min = -90, max = 90, layout = lax_slider)\n",
    "ml_long_2 = widgets.IntSlider(description = \"E Long. 2\", min = -180, max = 180, layout = lax_slider)\n",
    "\n",
    "ml_h_1 = widgets.HBox([ml_lat_1, ml_lat_2])\n",
    "ml_h_2 = widgets.HBox([ml_long_1, ml_long_2])\n",
    "widgets.VBox([ml_h_1, ml_h_2])"
   ]
  },
  {
   "cell_type": "code",
   "execution_count": 9,
   "id": "ca5eee79-c8ac-440c-9570-76ebc1fe2c85",
   "metadata": {},
   "outputs": [
    {
     "name": "stdout",
     "output_type": "stream",
     "text": [
      "-----------Vector Mode-------------\n",
      "-> Vector #1\n",
      "Surface temperature (K):\n",
      "    [196.9339  189.7807  218.76273 282.8176  261.94064 209.99358 197.11069]\n",
      "Coordinates:\n",
      "  * Time       (Time) float32 1.0 1.167 1.333 1.5 1.667 1.833 2.0\n",
      "    latitude   float64 0.0\n",
      "    longitude  float64 0.0\n",
      "\n",
      "-> Vector #2\n",
      "Surface temperature (K):\n",
      "    [196.9339  189.7807  218.76273 282.8176  261.94064 209.99358 197.11069]\n",
      "Coordinates:\n",
      "  * Time       (Time) float32 1.0 1.167 1.333 1.5 1.667 1.833 2.0\n",
      "    latitude   float64 0.0\n",
      "    longitude  float64 0.0\n"
     ]
    },
    {
     "data": {
      "text/plain": [
       "0"
      ]
     },
     "execution_count": 9,
     "metadata": {},
     "output_type": "execute_result"
    }
   ],
   "source": [
    "sys.argv = [\"getNetCDFData.py\", \"diagfi1_microts.nc\", \"tsurf\", \"--position\", ml_lat_1.value, ml_long_1.value, ml_lat_2.value, ml_long_2.value]\n",
    "getNetCDFData.main()"
   ]
  },
  {
   "cell_type": "markdown",
   "id": "928658c4",
   "metadata": {},
   "source": [
    "### Running in graph mode\n",
    "-----------------------------------------------\n",
    "**Command-line:**\n",
    "        \n",
    "        python getNetCDFData.py <netCDF file> <variable> --mode graph\n",
    "        e.g. python getNetCDFData.py diagfi1_microts.nc tsurf --mode graph --position 0 0 40 0\n",
    "**Expected behavior:**\n",
    "    \n",
    "        Uses \"graph mode\" - finds a vector of data corresponding to this variable and graphs it on a matplotlib plot.\n",
    "        default values are used for altitude(0) and time(1:2)."
   ]
  },
  {
   "cell_type": "code",
   "execution_count": 10,
   "id": "4f4cddad-46d8-4f24-b6ef-b78b127f4646",
   "metadata": {},
   "outputs": [
    {
     "data": {
      "application/vnd.jupyter.widget-view+json": {
       "model_id": "9cfd5a0f056e48d996c3d0a8903146ae",
       "version_major": 2,
       "version_minor": 0
      },
      "text/plain": [
       "VBox(children=(HBox(children=(IntSlider(value=0, description='N Lat. 1', layout=Layout(margin='10px', width='3…"
      ]
     },
     "execution_count": 10,
     "metadata": {},
     "output_type": "execute_result"
    }
   ],
   "source": [
    "## Use these sliders to adjust the latitude and longitude in the following example.\n",
    "gm_lat_1 = widgets.IntSlider(description = \"N Lat. 1\", min = -90, max = 90, layout = lax_slider)\n",
    "gm_long_1 = widgets.IntSlider(description = \"E Long. 1\", min = -180, max = 180, layout = lax_slider)\n",
    "gm_lat_2 = widgets.IntSlider(description = \"N Lat. 2\", min = -90, max = 90, layout = lax_slider)\n",
    "gm_long_2 = widgets.IntSlider(description = \"E Long. 2\", min = -180, max = 180, layout = lax_slider)\n",
    "\n",
    "gm_h_1 = widgets.HBox([gm_lat_1, gm_lat_2])\n",
    "gm_h_2 = widgets.HBox([gm_long_1, gm_long_2])\n",
    "widgets.VBox([gm_h_1, gm_h_2])"
   ]
  },
  {
   "cell_type": "code",
   "execution_count": 11,
   "id": "73380a45",
   "metadata": {},
   "outputs": [
    {
     "name": "stdout",
     "output_type": "stream",
     "text": [
      "-----------Graph Mode-------------\n",
      "-> Vector #1\n",
      "Surface temperature (K):\n",
      "    [196.9339  189.7807  218.76273 282.8176  261.94064 209.99358 197.11069]\n",
      "Coordinates:\n",
      "  * Time       (Time) float32 1.0 1.167 1.333 1.5 1.667 1.833 2.0\n",
      "    latitude   float64 0.0\n",
      "    longitude  float64 0.0\n",
      "\n",
      "-> Vector #2\n",
      "Surface temperature (K):\n",
      "    [196.9339  189.7807  218.76273 282.8176  261.94064 209.99358 197.11069]\n",
      "Coordinates:\n",
      "  * Time       (Time) float32 1.0 1.167 1.333 1.5 1.667 1.833 2.0\n",
      "    latitude   float64 0.0\n",
      "    longitude  float64 0.0\n"
     ]
    },
    {
     "data": {
      "image/png": "[encoded data removed]",
      "text/plain": [
       "<Figure size 640x480 with 1 Axes>"
      ]
     },
     "metadata": {},
     "output_type": "display_data"
    },
    {
     "data": {
      "text/plain": [
       "0"
      ]
     },
     "execution_count": 11,
     "metadata": {},
     "output_type": "execute_result"
    }
   ],
   "source": [
    "sys.argv = [\"getNetCDFData.py\", \"diagfi1_microts.nc\", \"tsurf\", \"--mode\", \"graph\", \"--position\", gm_lat_1.value, gm_long_1.value, gm_lat_2.value, gm_long_2.value]\n",
    "getNetCDFData.main()"
   ]
  },
  {
   "cell_type": "markdown",
   "id": "10e80f38-1bd2-4015-8ec7-62ac40db7048",
   "metadata": {},
   "source": [
    "### --analyze Flag\n",
    "-----------------------------------------------\n",
    "**Command-line:**\n",
    "        \n",
    "        python getNetCDFData.py <netCDF file> <variable> --analyze\n",
    "        e.g. python getNetCDFData.py diagfi1_microts.nc rice  --analyze --position 10 -10 -10 10\n",
    "**Expected behavior:**\n",
    "    \n",
    "        --analyze flag will print some statistical information along with the data vector(s)."
   ]
  },
  {
   "cell_type": "code",
   "execution_count": 12,
   "id": "dc9e13eb-3a89-4483-89ed-2c61704b4aab",
   "metadata": {},
   "outputs": [
    {
     "data": {
      "application/vnd.jupyter.widget-view+json": {
       "model_id": "e01dc3201550404b9cdc68ad68adcd36",
       "version_major": 2,
       "version_minor": 0
      },
      "text/plain": [
       "VBox(children=(HBox(children=(IntSlider(value=0, description='N Lat. 1', layout=Layout(margin='10px', width='3…"
      ]
     },
     "execution_count": 12,
     "metadata": {},
     "output_type": "execute_result"
    }
   ],
   "source": [
    "af_lat_1 = widgets.IntSlider(description = \"N Lat. 1\", min = -90, max = 90, layout = lax_slider)\n",
    "af_long_1 = widgets.IntSlider(description = \"E Long. 1\", min = -180, max = 180, layout = lax_slider)\n",
    "af_lat_2 = widgets.IntSlider(description = \"N Lat. 2\", min = -90, max = 90, layout = lax_slider)\n",
    "af_long_2 = widgets.IntSlider(description = \"E Long. 2\", min = -180, max = 180, layout = lax_slider)\n",
    "\n",
    "af_h_1 = widgets.HBox([af_lat_1, af_lat_2])\n",
    "af_h_2 = widgets.HBox([af_long_1, af_long_2])\n",
    "widgets.VBox([af_h_1, af_h_2])"
   ]
  },
  {
   "cell_type": "code",
   "execution_count": 15,
   "id": "dbad69b2-3a9b-4501-b45d-4caa14465bdf",
   "metadata": {},
   "outputs": [
    {
     "name": "stdout",
     "output_type": "stream",
     "text": [
      "-----------Vector Mode-------------\n",
      "-> Vector #1\n",
      "Water ice particle size (m):\n",
      "    [5.5266805e-06 5.4594811e-06 5.3623148e-06 5.3476983e-06 5.5254450e-06\n",
      " 5.3349604e-06 5.0041754e-06]\n",
      "Coordinates:\n",
      "  * Time       (Time) float32 1.0 1.167 1.333 1.5 1.667 1.833 2.0\n",
      "    latitude   float64 67.5\n",
      "    longitude  float64 0.0\n",
      "    altitude   float64 0.004481\n",
      "Max:\t5.5266805e-06 m\n",
      "\tTime = 1.0 days since 0000-00-0 00:00:00\n",
      "Min:\t5.0041754e-06 m\n",
      "\tTime = 2.0 days since 0000-00-0 00:00:00\n",
      "Avg:\t5.365822224640786e-06 m\n",
      "\n",
      "-> Vector #2\n",
      "Water ice particle size (m):\n",
      "    [6.6390980e-06 7.2687576e-06 8.8622055e-06 8.4095427e-06 7.1796821e-06\n",
      " 1.2070542e-05 7.5006133e-06]\n",
      "Coordinates:\n",
      "  * Time       (Time) float32 1.0 1.167 1.333 1.5 1.667 1.833 2.0\n",
      "    latitude   float64 60.0\n",
      "    longitude  float64 -112.5\n",
      "    altitude   float64 0.004481\n",
      "Max:\t1.2070542e-05 m\n",
      "\tTime = 1.8333334 days since 0000-00-0 00:00:00\n",
      "Min:\t6.639098e-06 m\n",
      "\tTime = 1.0 days since 0000-00-0 00:00:00\n",
      "Avg:\t8.275777288093065e-06 m\n"
     ]
    },
    {
     "data": {
      "text/plain": [
       "0"
      ]
     },
     "execution_count": 15,
     "metadata": {},
     "output_type": "execute_result"
    }
   ],
   "source": [
    "sys.argv = [\"getNetCDFData.py\", \"diagfi1_microts.nc\", \"rice\", \"--analyze\", \"--position\", af_lat_1.value, af_long_1.value, af_lat_2.value, af_long_2.value]\n",
    "getNetCDFData.main()"
   ]
  },
  {
   "cell_type": "code",
   "execution_count": null,
   "id": "5c0e271c-05ce-4bc3-9b8c-5a84a8c705d2",
   "metadata": {},
   "outputs": [],
   "source": []
  }
 ],
 "metadata": {
  "celltoolbar": "Raw Cell Format",
  "kernelspec": {
   "display_name": "Python 3 (ipykernel)",
   "language": "python",
   "name": "python3"
  },
  "language_info": {
   "codemirror_mode": {
    "name": "ipython",
    "version": 3
   },
   "file_extension": ".py",
   "mimetype": "text/x-python",
   "name": "python",
   "nbconvert_exporter": "python",
   "pygments_lexer": "ipython3",
   "version": "3.11.5"
  }
 },
 "nbformat": 4,
 "nbformat_minor": 5
}
